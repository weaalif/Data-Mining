{
  "nbformat": 4,
  "nbformat_minor": 0,
  "metadata": {
    "colab": {
      "provenance": []
    },
    "kernelspec": {
      "name": "python3",
      "display_name": "Python 3"
    },
    "language_info": {
      "name": "python"
    }
  },
  "cells": [
    {
      "cell_type": "code",
      "execution_count": 3,
      "metadata": {
        "colab": {
          "base_uri": "https://localhost:8080/",
          "height": 351
        },
        "collapsed": true,
        "id": "F9KRfmrBqvl-",
        "outputId": "bbec08b2-80fd-482a-d241-8d0e881578d3"
      },
      "outputs": [
        {
          "output_type": "stream",
          "name": "stdout",
          "text": [
            "Silakan unggah file Excel Anda...\n"
          ]
        },
        {
          "output_type": "display_data",
          "data": {
            "text/plain": [
              "<IPython.core.display.HTML object>"
            ],
            "text/html": [
              "\n",
              "     <input type=\"file\" id=\"files-bab8424b-bf74-4a01-af81-106993b40dfd\" name=\"files[]\" multiple disabled\n",
              "        style=\"border:none\" />\n",
              "     <output id=\"result-bab8424b-bf74-4a01-af81-106993b40dfd\">\n",
              "      Upload widget is only available when the cell has been executed in the\n",
              "      current browser session. Please rerun this cell to enable.\n",
              "      </output>\n",
              "      <script>// Copyright 2017 Google LLC\n",
              "//\n",
              "// Licensed under the Apache License, Version 2.0 (the \"License\");\n",
              "// you may not use this file except in compliance with the License.\n",
              "// You may obtain a copy of the License at\n",
              "//\n",
              "//      http://www.apache.org/licenses/LICENSE-2.0\n",
              "//\n",
              "// Unless required by applicable law or agreed to in writing, software\n",
              "// distributed under the License is distributed on an \"AS IS\" BASIS,\n",
              "// WITHOUT WARRANTIES OR CONDITIONS OF ANY KIND, either express or implied.\n",
              "// See the License for the specific language governing permissions and\n",
              "// limitations under the License.\n",
              "\n",
              "/**\n",
              " * @fileoverview Helpers for google.colab Python module.\n",
              " */\n",
              "(function(scope) {\n",
              "function span(text, styleAttributes = {}) {\n",
              "  const element = document.createElement('span');\n",
              "  element.textContent = text;\n",
              "  for (const key of Object.keys(styleAttributes)) {\n",
              "    element.style[key] = styleAttributes[key];\n",
              "  }\n",
              "  return element;\n",
              "}\n",
              "\n",
              "// Max number of bytes which will be uploaded at a time.\n",
              "const MAX_PAYLOAD_SIZE = 100 * 1024;\n",
              "\n",
              "function _uploadFiles(inputId, outputId) {\n",
              "  const steps = uploadFilesStep(inputId, outputId);\n",
              "  const outputElement = document.getElementById(outputId);\n",
              "  // Cache steps on the outputElement to make it available for the next call\n",
              "  // to uploadFilesContinue from Python.\n",
              "  outputElement.steps = steps;\n",
              "\n",
              "  return _uploadFilesContinue(outputId);\n",
              "}\n",
              "\n",
              "// This is roughly an async generator (not supported in the browser yet),\n",
              "// where there are multiple asynchronous steps and the Python side is going\n",
              "// to poll for completion of each step.\n",
              "// This uses a Promise to block the python side on completion of each step,\n",
              "// then passes the result of the previous step as the input to the next step.\n",
              "function _uploadFilesContinue(outputId) {\n",
              "  const outputElement = document.getElementById(outputId);\n",
              "  const steps = outputElement.steps;\n",
              "\n",
              "  const next = steps.next(outputElement.lastPromiseValue);\n",
              "  return Promise.resolve(next.value.promise).then((value) => {\n",
              "    // Cache the last promise value to make it available to the next\n",
              "    // step of the generator.\n",
              "    outputElement.lastPromiseValue = value;\n",
              "    return next.value.response;\n",
              "  });\n",
              "}\n",
              "\n",
              "/**\n",
              " * Generator function which is called between each async step of the upload\n",
              " * process.\n",
              " * @param {string} inputId Element ID of the input file picker element.\n",
              " * @param {string} outputId Element ID of the output display.\n",
              " * @return {!Iterable<!Object>} Iterable of next steps.\n",
              " */\n",
              "function* uploadFilesStep(inputId, outputId) {\n",
              "  const inputElement = document.getElementById(inputId);\n",
              "  inputElement.disabled = false;\n",
              "\n",
              "  const outputElement = document.getElementById(outputId);\n",
              "  outputElement.innerHTML = '';\n",
              "\n",
              "  const pickedPromise = new Promise((resolve) => {\n",
              "    inputElement.addEventListener('change', (e) => {\n",
              "      resolve(e.target.files);\n",
              "    });\n",
              "  });\n",
              "\n",
              "  const cancel = document.createElement('button');\n",
              "  inputElement.parentElement.appendChild(cancel);\n",
              "  cancel.textContent = 'Cancel upload';\n",
              "  const cancelPromise = new Promise((resolve) => {\n",
              "    cancel.onclick = () => {\n",
              "      resolve(null);\n",
              "    };\n",
              "  });\n",
              "\n",
              "  // Wait for the user to pick the files.\n",
              "  const files = yield {\n",
              "    promise: Promise.race([pickedPromise, cancelPromise]),\n",
              "    response: {\n",
              "      action: 'starting',\n",
              "    }\n",
              "  };\n",
              "\n",
              "  cancel.remove();\n",
              "\n",
              "  // Disable the input element since further picks are not allowed.\n",
              "  inputElement.disabled = true;\n",
              "\n",
              "  if (!files) {\n",
              "    return {\n",
              "      response: {\n",
              "        action: 'complete',\n",
              "      }\n",
              "    };\n",
              "  }\n",
              "\n",
              "  for (const file of files) {\n",
              "    const li = document.createElement('li');\n",
              "    li.append(span(file.name, {fontWeight: 'bold'}));\n",
              "    li.append(span(\n",
              "        `(${file.type || 'n/a'}) - ${file.size} bytes, ` +\n",
              "        `last modified: ${\n",
              "            file.lastModifiedDate ? file.lastModifiedDate.toLocaleDateString() :\n",
              "                                    'n/a'} - `));\n",
              "    const percent = span('0% done');\n",
              "    li.appendChild(percent);\n",
              "\n",
              "    outputElement.appendChild(li);\n",
              "\n",
              "    const fileDataPromise = new Promise((resolve) => {\n",
              "      const reader = new FileReader();\n",
              "      reader.onload = (e) => {\n",
              "        resolve(e.target.result);\n",
              "      };\n",
              "      reader.readAsArrayBuffer(file);\n",
              "    });\n",
              "    // Wait for the data to be ready.\n",
              "    let fileData = yield {\n",
              "      promise: fileDataPromise,\n",
              "      response: {\n",
              "        action: 'continue',\n",
              "      }\n",
              "    };\n",
              "\n",
              "    // Use a chunked sending to avoid message size limits. See b/62115660.\n",
              "    let position = 0;\n",
              "    do {\n",
              "      const length = Math.min(fileData.byteLength - position, MAX_PAYLOAD_SIZE);\n",
              "      const chunk = new Uint8Array(fileData, position, length);\n",
              "      position += length;\n",
              "\n",
              "      const base64 = btoa(String.fromCharCode.apply(null, chunk));\n",
              "      yield {\n",
              "        response: {\n",
              "          action: 'append',\n",
              "          file: file.name,\n",
              "          data: base64,\n",
              "        },\n",
              "      };\n",
              "\n",
              "      let percentDone = fileData.byteLength === 0 ?\n",
              "          100 :\n",
              "          Math.round((position / fileData.byteLength) * 100);\n",
              "      percent.textContent = `${percentDone}% done`;\n",
              "\n",
              "    } while (position < fileData.byteLength);\n",
              "  }\n",
              "\n",
              "  // All done.\n",
              "  yield {\n",
              "    response: {\n",
              "      action: 'complete',\n",
              "    }\n",
              "  };\n",
              "}\n",
              "\n",
              "scope.google = scope.google || {};\n",
              "scope.google.colab = scope.google.colab || {};\n",
              "scope.google.colab._files = {\n",
              "  _uploadFiles,\n",
              "  _uploadFilesContinue,\n",
              "};\n",
              "})(self);\n",
              "</script> "
            ]
          },
          "metadata": {}
        },
        {
          "output_type": "stream",
          "name": "stdout",
          "text": [
            "Saving produksiPadi.xlsx to produksiPadi (1).xlsx\n",
            "Berikut adalah beberapa baris awal dataset:\n",
            "   Tahun  Produksi Padi(Ton)  Unnamed: 2  Unnamed: 3  \\\n",
            "0   1970          18693649.0         NaN         NaN   \n",
            "1   1971          20483687.0         NaN         NaN   \n",
            "2   1972          19393933.0         NaN         NaN   \n",
            "3   1973          21490578.0         NaN         NaN   \n",
            "4   1974          22476073.0         NaN         NaN   \n",
            "\n",
            "                          Unnamed: 4 Unnamed: 5  \n",
            "0                                NaN        NaN  \n",
            "1                                NaN        NaN  \n",
            "2  Ubah data tersebut secara lagging        NaN  \n",
            "3                                NaN        NaN  \n",
            "4    Lakukan Split Ratio --> 70 : 30        NaN  \n"
          ]
        }
      ],
      "source": [
        "# 1. Unggah file dari komputer ke Google Colab\n",
        "from google.colab import files\n",
        "import pandas as pd\n",
        "\n",
        "print(\"Silakan unggah file Excel Anda...\")\n",
        "uploaded = files.upload()\n",
        "\n",
        "# Memuat file yang diunggah\n",
        "file_name = list(uploaded.keys())[0]\n",
        "data = pd.read_excel(file_name)\n",
        "\n",
        "# Menampilkan beberapa baris awal data untuk memastikan format benar\n",
        "print(\"Berikut adalah beberapa baris awal dataset:\")\n",
        "print(data.head())\n"
      ]
    },
    {
      "cell_type": "code",
      "source": [
        "# 2. Membersihkan data\n",
        "# Pastikan dataset memiliki kolom yang benar\n",
        "if 'Tahun' in data.columns and 'Produksi Padi(Ton)' in data.columns:\n",
        "    data_cleaned = data[['Tahun', 'Produksi Padi(Ton)']].dropna()\n",
        "    data_cleaned.rename(columns={'Produksi Padi(Ton)': 'Produksi_Padi'}, inplace=True)\n",
        "else:\n",
        "    raise ValueError(\"Kolom 'Tahun' dan 'Produksi Padi(Ton)' tidak ditemukan dalam file!\")\n",
        "\n",
        "# Membuat kolom lagging (Produksi dari tahun sebelumnya)\n",
        "data_cleaned['Produksi_Padi_Lag'] = data_cleaned['Produksi_Padi'].shift(1)\n",
        "\n",
        "# Hapus baris dengan nilai NaN yang dihasilkan dari lagging\n",
        "data_lagged = data_cleaned.dropna()\n",
        "\n",
        "# Menampilkan beberapa baris hasil setelah lagging\n",
        "print(\"Data setelah lagging:\")\n",
        "print(data_lagged.head())\n"
      ],
      "metadata": {
        "colab": {
          "base_uri": "https://localhost:8080/"
        },
        "id": "T8iDZAJNupKM",
        "outputId": "7a35c777-5e11-4b04-87f6-c2734fbd815e"
      },
      "execution_count": 4,
      "outputs": [
        {
          "output_type": "stream",
          "name": "stdout",
          "text": [
            "Data setelah lagging:\n",
            "   Tahun  Produksi_Padi  Produksi_Padi_Lag\n",
            "1   1971     20483687.0         18693649.0\n",
            "2   1972     19393933.0         20483687.0\n",
            "3   1973     21490578.0         19393933.0\n",
            "4   1974     22476073.0         21490578.0\n",
            "5   1975     22339455.0         22476073.0\n"
          ]
        }
      ]
    },
    {
      "cell_type": "code",
      "source": [
        "# 3. Membagi data menjadi training dan testing (70:30)\n",
        "from sklearn.model_selection import train_test_split\n",
        "\n",
        "X = data_lagged[['Produksi_Padi_Lag']]  # Fitur input\n",
        "y = data_lagged['Produksi_Padi']        # Target output\n",
        "\n",
        "# Data dibagi tanpa shuffle karena data deret waktu\n",
        "X_train, X_test, y_train, y_test = train_test_split(X, y, test_size=0.3, shuffle=False)\n",
        "\n",
        "print(\"Ukuran data training:\", len(X_train))\n",
        "print(\"Ukuran data testing:\", len(X_test))\n"
      ],
      "metadata": {
        "colab": {
          "base_uri": "https://localhost:8080/"
        },
        "id": "7pPzg9yTuyXZ",
        "outputId": "cbe1c152-bb0a-4f5e-fb77-dbb23e01a109"
      },
      "execution_count": 5,
      "outputs": [
        {
          "output_type": "stream",
          "name": "stdout",
          "text": [
            "Ukuran data training: 36\n",
            "Ukuran data testing: 16\n"
          ]
        }
      ]
    },
    {
      "cell_type": "code",
      "source": [
        "# 4. Melatih model regresi linear\n",
        "from sklearn.linear_model import LinearRegression\n",
        "\n",
        "model = LinearRegression()\n",
        "model.fit(X_train, y_train)\n",
        "\n",
        "print(\"Model regresi linear berhasil dilatih.\")\n"
      ],
      "metadata": {
        "colab": {
          "base_uri": "https://localhost:8080/"
        },
        "id": "wc6gQZ3Pu1mP",
        "outputId": "ea9eff8b-f6fa-43c4-ad2b-25862fd5ac04"
      },
      "execution_count": 6,
      "outputs": [
        {
          "output_type": "stream",
          "name": "stdout",
          "text": [
            "Model regresi linear berhasil dilatih.\n"
          ]
        }
      ]
    },
    {
      "cell_type": "code",
      "source": [
        "# 5. Mengevaluasi model\n",
        "from sklearn.metrics import mean_squared_error, mean_absolute_percentage_error\n",
        "import numpy as np\n",
        "\n",
        "y_pred = model.predict(X_test)\n",
        "mse = mean_squared_error(y_test, y_pred)\n",
        "rmse = np.sqrt(mse)\n",
        "mape = mean_absolute_percentage_error(y_test, y_pred)\n",
        "\n",
        "# Menampilkan hasil evaluasi\n",
        "print(f\"MSE (Mean Squared Error): {mse:.2f}\")\n",
        "print(f\"RMSE (Root Mean Squared Error): {rmse:.2f}\")\n",
        "print(f\"MAPE (Mean Absolute Percentage Error): {mape:.2%}\")\n"
      ],
      "metadata": {
        "colab": {
          "base_uri": "https://localhost:8080/"
        },
        "id": "CSklpLw_u4_8",
        "outputId": "a14a7d16-8765-4c53-924c-423e6e944764"
      },
      "execution_count": 7,
      "outputs": [
        {
          "output_type": "stream",
          "name": "stdout",
          "text": [
            "MSE (Mean Squared Error): 36788069362837.19\n",
            "RMSE (Root Mean Squared Error): 6065316.92\n",
            "MAPE (Mean Absolute Percentage Error): 5.56%\n"
          ]
        }
      ]
    },
    {
      "cell_type": "code",
      "source": [
        "# 6. Prediksi tahun 2023 dan 2024\n",
        "# Menggunakan produksi padi tahun terakhir untuk memprediksi\n",
        "last_year_production = data_lagged['Produksi_Padi'].iloc[-1]\n",
        "\n",
        "# Prediksi untuk tahun 2023\n",
        "prediction_2023 = model.predict(pd.DataFrame([[last_year_production]], columns=['Produksi_Padi_Lag']))\n",
        "\n",
        "# Prediksi untuk tahun 2024 berdasarkan prediksi 2023\n",
        "prediction_2024 = model.predict(pd.DataFrame([[prediction_2023[0]]], columns=['Produksi_Padi_Lag']))\n",
        "\n",
        "# Menampilkan hasil prediksi\n",
        "print(f\"Prediksi produksi padi tahun 2023: {prediction_2023[0]:,.2f} Ton\")\n",
        "print(f\"Prediksi produksi padi tahun 2024: {prediction_2024[0]:,.2f} Ton\")\n"
      ],
      "metadata": {
        "colab": {
          "base_uri": "https://localhost:8080/"
        },
        "id": "Qnpylqh1u9e-",
        "outputId": "eed41f66-4b46-4a60-b354-c351d034b6d2"
      },
      "execution_count": 8,
      "outputs": [
        {
          "output_type": "stream",
          "name": "stdout",
          "text": [
            "Prediksi produksi padi tahun 2023: 54,928,021.58 Ton\n",
            "Prediksi produksi padi tahun 2024: 55,502,340.65 Ton\n"
          ]
        }
      ]
    }
  ]
}