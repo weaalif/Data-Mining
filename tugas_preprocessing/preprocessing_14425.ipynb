{
  "nbformat": 4,
  "nbformat_minor": 0,
  "metadata": {
    "colab": {
      "provenance": [],
      "toc_visible": true
    },
    "kernelspec": {
      "name": "python3",
      "display_name": "Python 3"
    },
    "language_info": {
      "name": "python"
    }
  },
  "cells": [
    {
      "cell_type": "code",
      "execution_count": null,
      "metadata": {
        "colab": {
          "base_uri": "https://localhost:8080/"
        },
        "id": "jKl5lIhnTiQA",
        "outputId": "b3a3f147-7aed-474e-8133-f3b7626837bb",
        "collapsed": true
      },
      "outputs": [
        {
          "output_type": "stream",
          "name": "stdout",
          "text": [
            "   NO    NAMA   USIA  PARITAS JARAK KELAHIRAN RIW HIPERTENSI RIW PE OBESITAS  \\\n",
            "0   1  NAMA 1  23 TH        3       < 2 tahun          Tidak  Tidak    Tidak   \n",
            "1   2  NAMA 2  29 TH        2       < 2 tahun          Tidak    PEB    Tidak   \n",
            "2   3  NAMA 3  20 TH        1    anak pertama          Tidak  Tidak    Tidak   \n",
            "3   4  NAMA 4  18 TH        1    anak pertama          Tidak  Tidak    Tidak   \n",
            "4   5  NAMA 5  34 TH        3      > 2 tahun           Tidak  Tidak    Tidak   \n",
            "\n",
            "  RIW DM RIW HIPERTENSI/PE DALAM KELUARGA SOSEK RENDAH PE/Non PE Unnamed: 12  \n",
            "0     Ya                            Tidak         >UMR    Non PE         NaN  \n",
            "1  Tidak                              Ada         >UMR        PE         NaN  \n",
            "2  Tidak                            Tidak         >UMR    Non PE         NaN  \n",
            "3  Tidak                            Tidak         >UMR    Non PE         NaN  \n",
            "4  Tidak                            Tidak         >UMR    Non PE         NaN  \n",
            "<class 'pandas.core.frame.DataFrame'>\n",
            "RangeIndex: 561 entries, 0 to 560\n",
            "Data columns (total 13 columns):\n",
            " #   Column                            Non-Null Count  Dtype \n",
            "---  ------                            --------------  ----- \n",
            " 0   NO                                561 non-null    int64 \n",
            " 1   NAMA                              561 non-null    object\n",
            " 2   USIA                              558 non-null    object\n",
            " 3   PARITAS                           561 non-null    int64 \n",
            " 4   JARAK KELAHIRAN                   554 non-null    object\n",
            " 5   RIW HIPERTENSI                    561 non-null    object\n",
            " 6   RIW PE                            561 non-null    object\n",
            " 7   OBESITAS                          561 non-null    object\n",
            " 8   RIW DM                            561 non-null    object\n",
            " 9   RIW HIPERTENSI/PE DALAM KELUARGA  561 non-null    object\n",
            " 10  SOSEK RENDAH                      561 non-null    object\n",
            " 11  PE/Non PE                         561 non-null    object\n",
            " 12  Unnamed: 12                       11 non-null     object\n",
            "dtypes: int64(2), object(11)\n",
            "memory usage: 57.1+ KB\n",
            "None\n",
            "   NO    NAMA  USIA  PARITAS JARAK KELAHIRAN  RIW HIPERTENSI RIW PE  OBESITAS  \\\n",
            "0   1  nama 1  23.0        3       < 2 tahun               0      0         0   \n",
            "1   2  nama 2  29.0        2       < 2 tahun               0      1         0   \n",
            "2   3  nama 3  20.0        1    anak pertama               0      0         0   \n",
            "3   4  nama 4  18.0        1    anak pertama               0      0         0   \n",
            "4   5  nama 5  34.0        3      > 2 tahun                0      0         0   \n",
            "\n",
            "   RIW DM RIW HIPERTENSI/PE DALAM KELUARGA  SOSEK RENDAH PE/Non PE  \n",
            "0       1                                0             1         0  \n",
            "1       0                              ada             1         1  \n",
            "2       0                                0             1         0  \n",
            "3       0                                0             1         0  \n",
            "4       0                                0             1         0  \n"
          ]
        }
      ],
      "source": [
        "import pandas as pd\n",
        "\n",
        "# Memuat data dari file Excel\n",
        "file_path = '/mnt/data/dataKasus-1.xlsx'\n",
        "data = pd.read_excel('dataKasus-1.xlsx')\n",
        "\n",
        "# Menampilkan beberapa baris pertama data dan informasi kolom\n",
        "print(data.head())\n",
        "print(data.info())\n",
        "\n",
        "# Menghapus kolom yang tidak diperlukan, seperti 'Unnamed: 12' jika kolom tersebut banyak nilai kosong\n",
        "data_cleaned = data.drop(columns=['Unnamed: 12'])\n",
        "\n",
        "# Fungsi untuk membersihkan kolom 'USIA', menghapus teks seperti 'TH'\n",
        "def bersihkan_usia(usia):\n",
        "    if isinstance(usia, str):\n",
        "        return ''.join([i for i in usia if i.isdigit()])\n",
        "    return usia\n",
        "\n",
        "# Terapkan fungsi untuk kolom 'USIA' dan ubah menjadi tipe data numerik\n",
        "data_cleaned['USIA'] = data_cleaned['USIA'].apply(bersihkan_usia).astype(float)\n",
        "\n",
        "# Isi nilai kosong dengan nilai yang paling sering muncul (modus)\n",
        "data_cleaned['USIA'].fillna(data_cleaned['USIA'].mode()[0], inplace=True)\n",
        "data_cleaned['JARAK KELAHIRAN'].fillna(data_cleaned['JARAK KELAHIRAN'].mode()[0], inplace=True)\n",
        "\n",
        "# Mengubah semua teks menjadi huruf kecil\n",
        "for col in data_cleaned.select_dtypes(include=['object']).columns:\n",
        "    data_cleaned[col] = data_cleaned[col].str.lower()\n",
        "\n",
        "# Mengubah nilai kategorikal (seperti 'ya' dan 'tidak') menjadi angka\n",
        "kolom_biner = ['RIW HIPERTENSI', 'RIW PE', 'OBESITAS', 'RIW DM', 'RIW HIPERTENSI/PE DALAM KELUARGA']\n",
        "\n",
        "for kolom in kolom_biner:\n",
        "    data_cleaned[kolom] = data_cleaned[kolom].replace({'tidak': 0, 'ya': 1, 'peb': 1})\n",
        "\n",
        "# Mengubah 'PE/Non PE' dan 'SOSEK RENDAH' menjadi numerik\n",
        "data_cleaned['PE/Non PE'] = data_cleaned['PE/Non PE'].replace({'pe': 1, 'non pe': 0})\n",
        "data_cleaned['SOSEK RENDAH'] = data_cleaned['SOSEK RENDAH'].replace({'>umr': 1, '<umr': 0})\n",
        "\n",
        "# Tampilkan hasil setelah pembersihan\n",
        "print(data_cleaned.head())\n",
        "\n"
      ]
    }
  ]
}